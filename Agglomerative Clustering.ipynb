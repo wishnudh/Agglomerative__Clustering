{
 "cells": [
  {
   "cell_type": "code",
   "execution_count": 21,
   "metadata": {},
   "outputs": [],
   "source": [
    "#Library\n",
    "import pandas as pd\n",
    "import numpy as np\n",
    "import matplotlib.pyplot as plt\n",
    "from sklearn.preprocessing import MinMaxScaler\n",
    "import scipy.cluster.hierarchy as sch\n",
    "from sklearn.cluster import AgglomerativeClustering\n",
    "from sklearn.cluster import KMeans"
   ]
  },
  {
   "cell_type": "code",
   "execution_count": 22,
   "metadata": {},
   "outputs": [
    {
     "data": {
      "text/html": [
       "<div>\n",
       "<style scoped>\n",
       "    .dataframe tbody tr th:only-of-type {\n",
       "        vertical-align: middle;\n",
       "    }\n",
       "\n",
       "    .dataframe tbody tr th {\n",
       "        vertical-align: top;\n",
       "    }\n",
       "\n",
       "    .dataframe thead th {\n",
       "        text-align: right;\n",
       "    }\n",
       "</style>\n",
       "<table border=\"1\" class=\"dataframe\">\n",
       "  <thead>\n",
       "    <tr style=\"text-align: right;\">\n",
       "      <th></th>\n",
       "      <th>id</th>\n",
       "      <th>id_android</th>\n",
       "      <th>speed</th>\n",
       "      <th>distance</th>\n",
       "    </tr>\n",
       "  </thead>\n",
       "  <tbody>\n",
       "    <tr>\n",
       "      <td>0</td>\n",
       "      <td>1</td>\n",
       "      <td>0</td>\n",
       "      <td>19.210586</td>\n",
       "      <td>2.652</td>\n",
       "    </tr>\n",
       "    <tr>\n",
       "      <td>1</td>\n",
       "      <td>2</td>\n",
       "      <td>0</td>\n",
       "      <td>30.848229</td>\n",
       "      <td>5.290</td>\n",
       "    </tr>\n",
       "    <tr>\n",
       "      <td>2</td>\n",
       "      <td>3</td>\n",
       "      <td>1</td>\n",
       "      <td>13.560101</td>\n",
       "      <td>0.918</td>\n",
       "    </tr>\n",
       "    <tr>\n",
       "      <td>3</td>\n",
       "      <td>4</td>\n",
       "      <td>1</td>\n",
       "      <td>19.766679</td>\n",
       "      <td>7.700</td>\n",
       "    </tr>\n",
       "    <tr>\n",
       "      <td>4</td>\n",
       "      <td>8</td>\n",
       "      <td>0</td>\n",
       "      <td>25.807401</td>\n",
       "      <td>3.995</td>\n",
       "    </tr>\n",
       "  </tbody>\n",
       "</table>\n",
       "</div>"
      ],
      "text/plain": [
       "   id  id_android      speed  distance\n",
       "0   1           0  19.210586     2.652\n",
       "1   2           0  30.848229     5.290\n",
       "2   3           1  13.560101     0.918\n",
       "3   4           1  19.766679     7.700\n",
       "4   8           0  25.807401     3.995"
      ]
     },
     "execution_count": 22,
     "metadata": {},
     "output_type": "execute_result"
    }
   ],
   "source": [
    "#Dataset\n",
    "dataset = pd.read_csv('data_gojek.csv')\n",
    "x = dataset.drop([\"linha\", \"car_or_bus\",\"rating_weather\", \"rating_bus\",\"rating\",\"time\"], axis = 1)\n",
    "x.head()"
   ]
  },
  {
   "cell_type": "code",
   "execution_count": 23,
   "metadata": {},
   "outputs": [
    {
     "data": {
      "text/html": [
       "<div>\n",
       "<style scoped>\n",
       "    .dataframe tbody tr th:only-of-type {\n",
       "        vertical-align: middle;\n",
       "    }\n",
       "\n",
       "    .dataframe tbody tr th {\n",
       "        vertical-align: top;\n",
       "    }\n",
       "\n",
       "    .dataframe thead th {\n",
       "        text-align: right;\n",
       "    }\n",
       "</style>\n",
       "<table border=\"1\" class=\"dataframe\">\n",
       "  <thead>\n",
       "    <tr style=\"text-align: right;\">\n",
       "      <th></th>\n",
       "      <th>speed</th>\n",
       "      <th>time</th>\n",
       "    </tr>\n",
       "  </thead>\n",
       "  <tbody>\n",
       "    <tr>\n",
       "      <td>0</td>\n",
       "      <td>19.210586</td>\n",
       "      <td>0.138049</td>\n",
       "    </tr>\n",
       "    <tr>\n",
       "      <td>1</td>\n",
       "      <td>30.848229</td>\n",
       "      <td>0.171485</td>\n",
       "    </tr>\n",
       "    <tr>\n",
       "      <td>2</td>\n",
       "      <td>13.560101</td>\n",
       "      <td>0.067699</td>\n",
       "    </tr>\n",
       "    <tr>\n",
       "      <td>3</td>\n",
       "      <td>19.766679</td>\n",
       "      <td>0.389544</td>\n",
       "    </tr>\n",
       "    <tr>\n",
       "      <td>4</td>\n",
       "      <td>25.807401</td>\n",
       "      <td>0.154801</td>\n",
       "    </tr>\n",
       "  </tbody>\n",
       "</table>\n",
       "</div>"
      ],
      "text/plain": [
       "       speed      time\n",
       "0  19.210586  0.138049\n",
       "1  30.848229  0.171485\n",
       "2  13.560101  0.067699\n",
       "3  19.766679  0.389544\n",
       "4  25.807401  0.154801"
      ]
     },
     "execution_count": 23,
     "metadata": {},
     "output_type": "execute_result"
    }
   ],
   "source": [
    "x = dataset.iloc[:, 2:4]\n",
    "x.head()"
   ]
  },
  {
   "cell_type": "code",
   "execution_count": 24,
   "metadata": {},
   "outputs": [
    {
     "name": "stdout",
     "output_type": "stream",
     "text": [
      "[[1.92105856e+01 1.38048889e-01]\n",
      " [3.08482291e+01 1.71484722e-01]\n",
      " [1.35601009e+01 6.76986111e-02]\n",
      " [1.97666790e+01 3.89544444e-01]\n",
      " [2.58074009e+01 1.54800556e-01]\n",
      " [1.34691332e+00 6.68194444e-03]\n",
      " [3.68507874e+01 2.28000556e-01]\n",
      " [1.74051313e+01 3.87816667e-02]\n",
      " [1.53954361e+01 5.26844444e-01]\n",
      " [8.90272944e+00 3.03277778e-03]\n",
      " [1.50413480e+01 2.17866111e-01]\n",
      " [1.44400981e+01 2.68142222e-01]\n",
      " [1.63567325e+01 7.70325000e-02]\n",
      " [1.75427999e+01 3.33869167e-01]\n",
      " [9.45181557e+00 2.76772222e-01]\n",
      " [9.45181557e+00 2.76772222e-01]\n",
      " [1.62635039e+01 4.50948333e-01]\n",
      " [2.12235944e+01 2.89724722e-01]\n",
      " [1.94236545e+01 2.36567222e-01]\n",
      " [2.07996291e+01 4.25440278e-01]\n",
      " [8.72437242e+00 1.94294778e+00]\n",
      " [8.72437242e+00 1.94294778e+00]\n",
      " [8.68613764e+00 5.02409722e-01]\n",
      " [5.49959473e+01 1.01407472e+00]\n",
      " [5.49959473e+01 1.01407472e+00]\n",
      " [1.26110448e+01 5.79095556e-01]\n",
      " [1.45342872e+01 7.90544444e-02]\n",
      " [1.02882267e+01 3.18422222e-01]\n",
      " [1.83281891e+01 1.30945833e-01]\n",
      " [1.71776350e+01 1.66088056e-01]\n",
      " [1.70978234e+01 1.33233333e-01]\n",
      " [3.25207021e+01 2.03716389e-01]\n",
      " [1.99348099e+01 3.29122778e-01]\n",
      " [2.15138018e+01 6.57252500e-01]\n",
      " [2.75257703e+01 2.92380556e-01]\n",
      " [2.81045207e+01 2.76574722e-01]\n",
      " [2.23224625e+01 8.25177778e-02]\n",
      " [2.23224625e+01 8.25177778e-02]\n",
      " [3.23773040e+01 1.66196667e-01]\n",
      " [2.23779245e+01 3.47172500e-01]\n",
      " [2.49082559e+01 2.64851944e-01]\n",
      " [3.71409017e+01 5.00849444e-01]\n",
      " [3.71409017e+01 5.00849444e-01]\n",
      " [7.29267545e+01 9.06388889e-03]\n",
      " [6.63753526e-02 1.50658333e-02]\n",
      " [8.33281351e+01 8.37172222e-02]\n",
      " [8.33281351e+01 8.37172222e-02]\n",
      " [9.62060288e+01 3.50695278e-01]\n",
      " [3.23767476e+00 1.01925000e-02]\n",
      " [5.82100412e-01 3.43583333e-03]\n",
      " [1.38683788e+00 4.32638889e-03]\n",
      " [1.80865138e-01 3.31738889e-02]\n",
      " [1.87306515e-01 3.20330556e-02]\n",
      " [2.74035168e+00 3.64916667e-03]\n",
      " [1.55177191e+00 9.02194444e-03]\n",
      " [8.91614215e-01 3.25252778e-02]\n",
      " [1.26197446e+00 1.33124722e-01]\n",
      " [1.98334721e+01 5.09290556e-01]\n",
      " [1.68934215e+01 5.63710556e-01]\n",
      " [2.05827023e+01 4.93181111e-01]\n",
      " [3.07454686e-01 4.58604167e-01]\n",
      " [3.07454686e-01 4.58604167e-01]\n",
      " [2.16717437e+01 2.48941667e-01]\n",
      " [2.16717437e+01 2.48941667e-01]\n",
      " [3.32011780e+01 1.04604722e-01]\n",
      " [3.32011780e+01 1.04604722e-01]\n",
      " [2.68955892e+01 2.30483889e-01]\n",
      " [2.68955892e+01 2.30483889e-01]\n",
      " [3.10853313e+01 2.40402778e-01]\n",
      " [3.10853313e+01 2.40402778e-01]\n",
      " [4.61929548e-01 1.14736111e-01]\n",
      " [7.77134962e-01 1.93016667e-02]\n",
      " [1.28318370e+00 3.55366111e-01]\n",
      " [1.48769113e+00 4.70527778e-03]\n",
      " [2.30511917e+01 3.18378333e-01]\n",
      " [2.12391802e+01 4.75112500e-01]\n",
      " [2.13008272e+01 4.43175278e-01]\n",
      " [2.44305935e+01 4.16649722e-01]\n",
      " [6.37205735e-01 4.70805556e-03]\n",
      " [1.79277713e+01 2.12519444e-02]\n",
      " [1.96122416e-01 8.66805556e-02]\n",
      " [3.58392609e-02 5.58047222e-02]\n",
      " [1.03398755e+00 2.90138889e-03]\n",
      " [8.98564792e+00 4.00638889e-03]\n",
      " [7.27684347e-01 1.37422222e-02]\n",
      " [3.45644242e+00 4.33972222e-03]\n",
      " [1.58068057e+00 5.06111111e-03]\n",
      " [2.54912374e-01 2.35375000e-02]\n",
      " [9.19540230e-01 2.17500000e-03]\n",
      " [1.02290890e+00 7.82083333e-03]\n",
      " [6.01222486e-02 1.66327778e-02]\n",
      " [6.69367156e-02 1.04576389e-01]\n",
      " [1.34687985e+01 2.94978056e-01]\n",
      " [1.25918420e-01 2.62074444e-01]\n",
      " [2.37848768e+01 2.66513889e-01]\n",
      " [2.40030044e+01 2.88463889e-01]\n",
      " [2.11954933e+01 3.10773611e-01]\n",
      " [2.11954933e+01 3.10773611e-01]\n",
      " [2.03702469e+01 3.91600556e-01]\n",
      " [2.87800873e+00 1.28561111e-02]\n",
      " [1.87935954e+01 1.26160000e-01]\n",
      " [1.87935954e+01 1.26160000e-01]\n",
      " [1.49003918e+01 4.62269722e-01]\n",
      " [1.49003918e+01 4.62269722e-01]\n",
      " [2.55547122e+01 4.42071111e-01]\n",
      " [6.76963371e+00 1.68842222e-01]\n",
      " [2.24681840e+01 3.69900833e-01]\n",
      " [1.35322194e+01 4.67846389e-01]\n",
      " [1.79720982e+01 4.54092778e-01]\n",
      " [1.47120528e+01 1.27915528e+00]\n",
      " [2.95409544e+01 2.13940278e-01]\n",
      " [1.56202167e+01 3.30469167e-01]\n",
      " [9.77939319e-03 3.06767500e-01]\n",
      " [1.67788952e+01 1.93099722e-01]\n",
      " [4.87144790e+00 8.62166667e-03]\n",
      " [4.87144790e+00 8.62166667e-03]\n",
      " [3.66662787e-01 1.90911111e-02]\n",
      " [5.59217096e-01 5.00700000e-02]\n",
      " [4.68039003e+00 3.84583333e-03]\n",
      " [1.60135225e+00 6.24472222e-03]\n",
      " [1.87052756e+01 4.36935556e-01]\n",
      " [1.83416125e+00 2.18083333e-03]\n",
      " [1.35582998e+01 5.30597500e-01]\n",
      " [1.02032140e-01 9.80083333e-03]\n",
      " [1.77183941e-01 2.14466389e-01]\n",
      " [2.59576025e+01 5.37453333e-01]\n",
      " [2.59576025e+01 5.37453333e-01]\n",
      " [1.41409380e+00 3.53583333e-03]\n",
      " [1.66853680e+01 4.45600000e-01]\n",
      " [1.09412891e+01 7.66088889e-01]\n",
      " [3.03970446e+01 8.04716389e-01]\n",
      " [6.75973582e+00 4.87888889e-01]\n",
      " [2.56549384e+01 3.56617500e-01]\n",
      " [1.76544921e+01 5.25588611e-01]\n",
      " [2.45047380e+01 1.98043333e-01]\n",
      " [1.15665726e+01 4.41358056e-01]\n",
      " [1.46308964e+01 7.66733611e-01]\n",
      " [3.98475672e-01 1.75669444e-02]\n",
      " [9.07685861e+00 5.12401944e-01]\n",
      " [2.54513326e+01 1.93978056e-01]\n",
      " [2.54513326e+01 1.93978056e-01]\n",
      " [1.93767939e+01 3.51399722e-01]\n",
      " [7.13806788e+00 5.80829444e-01]\n",
      " [1.78318709e+00 3.92555556e-03]\n",
      " [1.72012210e-01 4.59269722e-01]\n",
      " [1.31161193e+00 1.60108333e-02]\n",
      " [2.31993919e+01 2.34230278e-01]\n",
      " [2.35029280e+01 1.59426944e-01]\n",
      " [1.44514212e+00 9.27244444e-02]\n",
      " [5.36246276e-01 2.23777778e-02]\n",
      " [3.66470717e+01 2.00070556e-01]\n",
      " [3.13673368e+01 2.55807500e-01]\n",
      " [2.55623968e+01 1.77526389e-01]\n",
      " [3.80281074e+01 1.71346944e-01]\n",
      " [2.81424374e+01 2.26703889e-01]\n",
      " [2.18120695e+01 1.43773611e-01]\n",
      " [2.38285146e+01 1.96906944e-01]\n",
      " [2.83366193e+01 1.10457778e-01]\n",
      " [3.00517319e+01 2.18756111e-01]\n",
      " [3.01737884e+01 2.55387222e-01]\n",
      " [1.15377219e+00 1.30008333e-02]\n",
      " [8.43222986e-01 7.11555556e-03]\n",
      " [1.37299771e+00 1.67516667e-02]]\n"
     ]
    }
   ],
   "source": [
    "x_array =  np.array(x)\n",
    "print(x_array)"
   ]
  },
  {
   "cell_type": "code",
   "execution_count": 25,
   "metadata": {},
   "outputs": [
    {
     "data": {
      "image/png": "[encoded data removed]",
      "text/plain": [
       "<Figure size 432x288 with 1 Axes>"
      ]
     },
     "metadata": {
      "needs_background": "light"
     },
     "output_type": "display_data"
    }
   ],
   "source": [
    "#menentukan K menggunakan WCSS elbow graph\n",
    "wcss = []\n",
    "for i in range(1, 5):\n",
    "    kmeans = KMeans(n_clusters = i, init = 'k-means++', random_state = 0)\n",
    "    kmeans.fit(x)\n",
    "    wcss.append(kmeans.inertia_)\n",
    "plt.plot(range(1, 5), wcss)\n",
    "plt.title('The Elbow Method')\n",
    "plt.xlabel('Number of clusters')\n",
    "plt.ylabel('WCSS')\n",
    "plt.show()"
   ]
  },
  {
   "cell_type": "code",
   "execution_count": 26,
   "metadata": {},
   "outputs": [
    {
     "data": {
      "image/png": "[encoded data removed]",
      "text/plain": [
       "<Figure size 432x288 with 1 Axes>"
      ]
     },
     "metadata": {
      "needs_background": "light"
     },
     "output_type": "display_data"
    }
   ],
   "source": [
    "#dendrogram\n",
    "dendrogram = sch.dendrogram(sch.linkage(x_array, method='ward'))"
   ]
  },
  {
   "cell_type": "code",
   "execution_count": 27,
   "metadata": {},
   "outputs": [
    {
     "data": {
      "text/plain": [
       "<matplotlib.collections.PathCollection at 0x18fc46e6288>"
      ]
     },
     "execution_count": 27,
     "metadata": {},
     "output_type": "execute_result"
    },
    {
     "data": {
      "image/png": "[encoded data removed]",
      "text/plain": [
       "<Figure size 432x288 with 1 Axes>"
      ]
     },
     "metadata": {
      "needs_background": "light"
     },
     "output_type": "display_data"
    }
   ],
   "source": [
    "plt.scatter(x_array[:,0],x_array[:,1])"
   ]
  },
  {
   "cell_type": "code",
   "execution_count": 28,
   "metadata": {},
   "outputs": [],
   "source": [
    "hc = AgglomerativeClustering(n_clusters = 3, affinity='euclidean', linkage = 'ward')"
   ]
  },
  {
   "cell_type": "code",
   "execution_count": 29,
   "metadata": {},
   "outputs": [],
   "source": [
    "# fit dataset and predict \n",
    "y_hc = hc.fit_predict(x)"
   ]
  },
  {
   "cell_type": "code",
   "execution_count": 30,
   "metadata": {},
   "outputs": [
    {
     "data": {
      "text/plain": [
       "<matplotlib.collections.PathCollection at 0x18fc4748448>"
      ]
     },
     "execution_count": 30,
     "metadata": {},
     "output_type": "execute_result"
    },
    {
     "data": {
      "image/png": "[encoded data removed]",
      "text/plain": [
       "<Figure size 432x288 with 1 Axes>"
      ]
     },
     "metadata": {
      "needs_background": "light"
     },
     "output_type": "display_data"
    }
   ],
   "source": [
    "plt.scatter(x_array[y_hc == 0,0], x_array[y_hc == 0,1], s = 100, c = 'cyan')\n",
    "plt.scatter(x_array[y_hc == 1,0], x_array[y_hc == 1,1], s = 100, c = 'red')\n",
    "plt.scatter(x_array[y_hc == 2,0], x_array[y_hc == 2,1], s = 100, c = 'yellow')"
   ]
  },
  {
   "cell_type": "code",
   "execution_count": null,
   "metadata": {},
   "outputs": [],
   "source": []
  }
 ],
 "metadata": {
  "kernelspec": {
   "display_name": "Python 3",
   "language": "python",
   "name": "python3"
  },
  "language_info": {
   "codemirror_mode": {
    "name": "ipython",
    "version": 3
   },
   "file_extension": ".py",
   "mimetype": "text/x-python",
   "name": "python",
   "nbconvert_exporter": "python",
   "pygments_lexer": "ipython3",
   "version": "3.7.4"
  }
 },
 "nbformat": 4,
 "nbformat_minor": 2
}
